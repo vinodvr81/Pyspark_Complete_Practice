{
 "cells": [
  {
   "cell_type": "code",
   "execution_count": 1,
   "metadata": {},
   "outputs": [],
   "source": [
    "import os\n",
    "os.environ[\"JAVA_HOME\"] = \"/usr/lib/jvm/java-11-openjdk-amd64\"\n",
    "os.environ[\"SPARK_HOME\"] = r\"/home/pyspark/spark-3.0.0-preview2-bin-hadoop2.7\"\n",
    "\n",
    "import findspark\n",
    "findspark.init(r'/home/pyspark/spark-3.0.0-preview2-bin-hadoop2.7')\n"
   ]
  },
  {
   "cell_type": "markdown",
   "metadata": {},
   "source": [
    "Source : https://www.analyticsvidhya.com/blog/2016/09/comprehensive-introduction-to-apache-spark-rdds-dataframes-using-pyspark/\n",
    "        \n",
    "         https://www.analyticsvidhya.com/blog/2016/10/using-pyspark-to-perform-transformations-and-actions-on-rdd/\n",
    "            \n",
    "        https://dwgeek.com/basic-spark-transformations-and-actions-using-pyspark.html/"
   ]
  },
  {
   "cell_type": "markdown",
   "metadata": {},
   "source": [
    "Spark Context: It holds a connection with Spark cluster manager. All Spark applications run as independent set of processes, coordinated by a SparkContext in a program.\n",
    "\n",
    "Driver and Worker: A driver is incharge of the process of running the main() function of an application and creating the SparkContext. A worker, on the other hand, is any node that can run program in the cluster. If a process is launched for an application, then this application acquires executors at worker node.\n",
    "\n",
    "Cluster Manager: Cluster manager allocates resources to each application in driver program. There are three types of cluster managers supported by Apache Spark – Standalone, Mesos and YARN. Apache Spark is agnostic to the underlying cluster manager, so we can install any cluster manager, each has its own unique advantages depending upon the goal. They all are different in terms of scheduling, security and monitoring. Once SparkContext connects to the cluster manager, it acquires executors on a cluster node, these executors are worker nodes on cluster which work independently on each tasks and interact with each other."
   ]
  },
  {
   "cell_type": "code",
   "execution_count": 2,
   "metadata": {},
   "outputs": [],
   "source": [
    "from IPython.display import Image"
   ]
  },
  {
   "cell_type": "code",
   "execution_count": 3,
   "metadata": {},
   "outputs": [
    {
     "data": {
      "image/jpeg": "[encoded data removed]",
      "text/plain": [
       "<IPython.core.display.Image object>"
      ]
     },
     "execution_count": 3,
     "metadata": {},
     "output_type": "execute_result"
    }
   ],
   "source": [
    "Image(filename='cluster.jpg')"
   ]
  },
  {
   "cell_type": "markdown",
   "metadata": {},
   "source": [
    "Language Support: Apache Spark has API support for popular data science languages like Python, R, Scala and Java.\n",
    "\n",
    "Supports Real time and Batch processing: Apache Spark supports “Batch data” processing where a group of transactions is collected over a period of time. It also supports real time data processing, where data is continuously flowing from the source. For example, weather information coming in from sensors can be processed by Apache Spark directly.\n",
    "\n",
    "Lazy operation: Lazy operations are used to optimize solutions in Apache Spark. I will discuss about lazy evaluation in later part of this article. For now, we can think that there are some operations which do not execute until we require results.\n",
    "\n",
    "Support for multiple transformations and actions: Another advantage of Apache Spark over Hadoop is that Hadoop supports only MapReduce but Apache Spark support many transformations and actions including MapReduce."
   ]
  },
  {
   "cell_type": "markdown",
   "metadata": {},
   "source": [
    "Apache Spark data representations: RDD / Dataframe / Dataset\n",
    "\n",
    "Spark has three data representations viz RDD, Dataframe, Dataset. For each data representation, Spark has a different API. For example, later in this article I am going to use ml (a library), which currently supports only Dataframe API. Dataframe is much faster than RDD because it has metadata (some information about data) associated with it, which allows Spark to optimize query plan."
   ]
  },
  {
   "cell_type": "markdown",
   "metadata": {},
   "source": [
    "RDD:\n",
    "\n",
    "After installing and configuring PySpark, we can start programming using Spark in Python. But to use Spark functionality, we must use RDD. RDD (Resilient Distributed Database) is a collection of elements, that can be divided across multiple nodes in a cluster to run parallel processing. It is also fault tolerant collection of elements, which means it can automatically recover from failures. RDD is immutable, we can create RDD once but can’t change it. We can apply any number of operation on it and can create another RDD by applying some transformations. Here are a few things to keep in mind about RDD:\n",
    "\n",
    " \n",
    "\n",
    "We can apply 2 types of operations on RDDs:\n",
    "\n",
    "Transformation: Transformation refers to the operation applied on a RDD to create new RDD.\n",
    "Action: Actions refer to an operation which also apply on RDD that perform computation and send the result back to driver.\n",
    "\n",
    "Example: Map (Transformation) performs operation on each element of RDD and returns a new RDD. But, in case of Reduce (Action), it reduces / aggregates the output of a map by applying some functions (Reduce by key). There are many transformations and actions are defined in Apache Spark documentation, I will discuss these in a later article."
   ]
  },
  {
   "cell_type": "markdown",
   "metadata": {},
   "source": [
    "RDDs use Shared Variable:\n",
    "\n",
    "The parallel operations in Apache Spark use shared variable. It means that whenever a task is sent by a driver to executors program in a cluster, a copy of shared variable is sent to each node in a cluster, so that they can use this variable while performing task. Accumulator and Broadcast are the two types of shared variables supported by Apache Spark.\n",
    "Broadcast: We can use the Broadcast variable to save the copy of data across all node.\n",
    "Accumulator: In Accumulator variables are used for aggregating the information."
   ]
  },
  {
   "cell_type": "code",
   "execution_count": 4,
   "metadata": {},
   "outputs": [],
   "source": [
    " from pyspark import SparkContext\n",
    " sc = SparkContext()"
   ]
  },
  {
   "cell_type": "code",
   "execution_count": 5,
   "metadata": {},
   "outputs": [],
   "source": [
    "data = range(1,1000)\n",
    "rdd = sc.parallelize(data)"
   ]
  },
  {
   "cell_type": "code",
   "execution_count": 6,
   "metadata": {},
   "outputs": [
    {
     "data": {
      "text/plain": [
       "pyspark.rdd.PipelinedRDD"
      ]
     },
     "execution_count": 6,
     "metadata": {},
     "output_type": "execute_result"
    }
   ],
   "source": [
    "type(rdd)"
   ]
  },
  {
   "cell_type": "code",
   "execution_count": 7,
   "metadata": {},
   "outputs": [
    {
     "data": {
      "text/plain": [
       "1"
      ]
     },
     "execution_count": 7,
     "metadata": {},
     "output_type": "execute_result"
    }
   ],
   "source": [
    "rdd.first()"
   ]
  },
  {
   "cell_type": "code",
   "execution_count": 8,
   "metadata": {},
   "outputs": [
    {
     "name": "stdout",
     "output_type": "stream",
     "text": [
      "1\n",
      "2\n",
      "3\n",
      "4\n",
      "5\n",
      "6\n",
      "7\n",
      "8\n",
      "9\n",
      "10\n"
     ]
    }
   ],
   "source": [
    "for i in rdd.take(10):\n",
    "    print(i)"
   ]
  },
  {
   "cell_type": "markdown",
   "metadata": {},
   "source": [
    "Step : Map Transformation"
   ]
  },
  {
   "cell_type": "code",
   "execution_count": 13,
   "metadata": {},
   "outputs": [],
   "source": [
    "data = ['Hello' , 'I' , 'AM', 'Vinod', 'Vukkalam']\n",
    "rdd_name = sc.parallelize(data)"
   ]
  },
  {
   "cell_type": "code",
   "execution_count": 14,
   "metadata": {},
   "outputs": [],
   "source": [
    "Rdd1 = rdd_name.map(lambda x: (x,1))"
   ]
  },
  {
   "cell_type": "code",
   "execution_count": 15,
   "metadata": {},
   "outputs": [
    {
     "data": {
      "text/plain": [
       "PythonRDD[7] at RDD at PythonRDD.scala:53"
      ]
     },
     "execution_count": 15,
     "metadata": {},
     "output_type": "execute_result"
    }
   ],
   "source": [
    "Rdd1"
   ]
  },
  {
   "cell_type": "code",
   "execution_count": 16,
   "metadata": {},
   "outputs": [],
   "source": [
    "list1 = Rdd1.collect()"
   ]
  },
  {
   "cell_type": "code",
   "execution_count": 17,
   "metadata": {},
   "outputs": [
    {
     "data": {
      "text/plain": [
       "[('Hello', 1), ('I', 1), ('AM', 1), ('Vinod', 1), ('Vukkalam', 1)]"
      ]
     },
     "execution_count": 17,
     "metadata": {},
     "output_type": "execute_result"
    }
   ],
   "source": [
    "list1"
   ]
  },
  {
   "cell_type": "code",
   "execution_count": 18,
   "metadata": {},
   "outputs": [
    {
     "data": {
      "text/plain": [
       "list"
      ]
     },
     "execution_count": 18,
     "metadata": {},
     "output_type": "execute_result"
    }
   ],
   "source": [
    "type(list1)"
   ]
  },
  {
   "cell_type": "code",
   "execution_count": 19,
   "metadata": {},
   "outputs": [
    {
     "data": {
      "text/plain": [
       "5"
      ]
     },
     "execution_count": 19,
     "metadata": {},
     "output_type": "execute_result"
    }
   ],
   "source": [
    "rdd_name.count()"
   ]
  },
  {
   "cell_type": "markdown",
   "metadata": {},
   "source": [
    "Transformation: Transformation refers to the operation applied on a RDD to create new RDD. Filter, groupBy and map are the examples of transformations.\n",
    "\n",
    "Actions: Actions refer to an operation which also applies on RDD, that instructs Spark to perform computation and send the result back to driver. This is an example of action.\n",
    "\n",
    "The Transformations and Actions in Apache Spark are divided into 4 major categories:\n",
    "\n",
    "     General\n",
    "     Mathematical and Statistical\n",
    "     Set Theory and Relational\n",
    "     Data-structure and IO\n"
   ]
  },
  {
   "cell_type": "code",
   "execution_count": 20,
   "metadata": {},
   "outputs": [],
   "source": [
    "rdd_blog = sc.textFile(\"blogtexts.txt\")"
   ]
  },
  {
   "cell_type": "code",
   "execution_count": 21,
   "metadata": {},
   "outputs": [
    {
     "data": {
      "text/plain": [
       "'Think of it for a moment – 1 Qunitillion = 1 Million Billion! Can you imagine how many drives / CDs / Blue-ray DVDs would be required to store them? It is difficult to imagine this scale of data generation even as a data science professional. While this pace of data generation is very exciting,  it has created entirely new set of challenges and has forced us to find new ways to handle Big Huge data effectively.'"
      ]
     },
     "execution_count": 21,
     "metadata": {},
     "output_type": "execute_result"
    }
   ],
   "source": [
    "rdd_blog.first()"
   ]
  },
  {
   "cell_type": "code",
   "execution_count": 22,
   "metadata": {},
   "outputs": [],
   "source": [
    "rdd1 = rdd_blog.map(lambda c:c.lower().split())"
   ]
  },
  {
   "cell_type": "code",
   "execution_count": 23,
   "metadata": {},
   "outputs": [
    {
     "data": {
      "text/plain": [
       "[['think',\n",
       "  'of',\n",
       "  'it',\n",
       "  'for',\n",
       "  'a',\n",
       "  'moment',\n",
       "  '–',\n",
       "  '1',\n",
       "  'qunitillion',\n",
       "  '=',\n",
       "  '1',\n",
       "  'million',\n",
       "  'billion!',\n",
       "  'can',\n",
       "  'you',\n",
       "  'imagine',\n",
       "  'how',\n",
       "  'many',\n",
       "  'drives',\n",
       "  '/',\n",
       "  'cds',\n",
       "  '/',\n",
       "  'blue-ray',\n",
       "  'dvds',\n",
       "  'would',\n",
       "  'be',\n",
       "  'required',\n",
       "  'to',\n",
       "  'store',\n",
       "  'them?',\n",
       "  'it',\n",
       "  'is',\n",
       "  'difficult',\n",
       "  'to',\n",
       "  'imagine',\n",
       "  'this',\n",
       "  'scale',\n",
       "  'of',\n",
       "  'data',\n",
       "  'generation',\n",
       "  'even',\n",
       "  'as',\n",
       "  'a',\n",
       "  'data',\n",
       "  'science',\n",
       "  'professional.',\n",
       "  'while',\n",
       "  'this',\n",
       "  'pace',\n",
       "  'of',\n",
       "  'data',\n",
       "  'generation',\n",
       "  'is',\n",
       "  'very',\n",
       "  'exciting,',\n",
       "  'it',\n",
       "  'has',\n",
       "  'created',\n",
       "  'entirely',\n",
       "  'new',\n",
       "  'set',\n",
       "  'of',\n",
       "  'challenges',\n",
       "  'and',\n",
       "  'has',\n",
       "  'forced',\n",
       "  'us',\n",
       "  'to',\n",
       "  'find',\n",
       "  'new',\n",
       "  'ways',\n",
       "  'to',\n",
       "  'handle',\n",
       "  'big',\n",
       "  'huge',\n",
       "  'data',\n",
       "  'effectively.'],\n",
       " [],\n",
       " ['big',\n",
       "  'data',\n",
       "  'is',\n",
       "  'not',\n",
       "  'a',\n",
       "  'new',\n",
       "  'phenomena.',\n",
       "  'it',\n",
       "  'has',\n",
       "  'been',\n",
       "  'around',\n",
       "  'for',\n",
       "  'a',\n",
       "  'while',\n",
       "  'now.',\n",
       "  'however,',\n",
       "  'it',\n",
       "  'has',\n",
       "  'become',\n",
       "  'really',\n",
       "  'important',\n",
       "  'with',\n",
       "  'this',\n",
       "  'pace',\n",
       "  'of',\n",
       "  'data',\n",
       "  'generation.',\n",
       "  'in',\n",
       "  'past,',\n",
       "  'several',\n",
       "  'systems',\n",
       "  'were',\n",
       "  'developed',\n",
       "  'for',\n",
       "  'processing',\n",
       "  'big',\n",
       "  'data.',\n",
       "  'most',\n",
       "  'of',\n",
       "  'them',\n",
       "  'were',\n",
       "  'based',\n",
       "  'on',\n",
       "  'mapreduce',\n",
       "  'framework.',\n",
       "  'these',\n",
       "  'frameworks',\n",
       "  'typically',\n",
       "  'rely',\n",
       "  'on',\n",
       "  'use',\n",
       "  'of',\n",
       "  'hard',\n",
       "  'disk',\n",
       "  'for',\n",
       "  'saving',\n",
       "  'and',\n",
       "  'retrieving',\n",
       "  'the',\n",
       "  'results.',\n",
       "  'however,',\n",
       "  'this',\n",
       "  'turns',\n",
       "  'out',\n",
       "  'to',\n",
       "  'be',\n",
       "  'very',\n",
       "  'costly',\n",
       "  'in',\n",
       "  'terms',\n",
       "  'of',\n",
       "  'time',\n",
       "  'and',\n",
       "  'speed.'],\n",
       " [],\n",
       " ['on',\n",
       "  'the',\n",
       "  'other',\n",
       "  'hand,',\n",
       "  'organizations',\n",
       "  'have',\n",
       "  'never',\n",
       "  'been',\n",
       "  'more',\n",
       "  'hungrier',\n",
       "  'to',\n",
       "  'add',\n",
       "  'a',\n",
       "  'competitive',\n",
       "  'differentiation',\n",
       "  'through',\n",
       "  'understanding',\n",
       "  'this',\n",
       "  'data',\n",
       "  'and',\n",
       "  'offering',\n",
       "  'its',\n",
       "  'customer',\n",
       "  'a',\n",
       "  'much',\n",
       "  'better',\n",
       "  'experience.',\n",
       "  'imagine',\n",
       "  'how',\n",
       "  'valuable',\n",
       "  'would',\n",
       "  'be',\n",
       "  'facebook,',\n",
       "  'if',\n",
       "  'it',\n",
       "  'did',\n",
       "  'not',\n",
       "  'understand',\n",
       "  'your',\n",
       "  'interests',\n",
       "  'well?',\n",
       "  'the',\n",
       "  'traditional',\n",
       "  'hard',\n",
       "  'disk',\n",
       "  'based',\n",
       "  'mapreduce',\n",
       "  'kind',\n",
       "  'of',\n",
       "  'frameworks',\n",
       "  'do',\n",
       "  'not',\n",
       "  'help',\n",
       "  'much',\n",
       "  'to',\n",
       "  'address',\n",
       "  'this',\n",
       "  'challenge.']]"
      ]
     },
     "execution_count": 23,
     "metadata": {},
     "output_type": "execute_result"
    }
   ],
   "source": [
    "rdd1.take(5)"
   ]
  },
  {
   "cell_type": "code",
   "execution_count": 24,
   "metadata": {},
   "outputs": [
    {
     "data": {
      "text/plain": [
       "['think', 'of', 'it', 'for', 'a']"
      ]
     },
     "execution_count": 24,
     "metadata": {},
     "output_type": "execute_result"
    }
   ],
   "source": [
    "rdd3 = rdd_blog.flatMap(lambda c: c.lower().split())\n",
    "rdd3.take(5)"
   ]
  },
  {
   "cell_type": "markdown",
   "metadata": {},
   "source": [
    "With Map transformation, Output is too long so, I have just attached a snippet of it. We can also see that our output is not flat (it’s a nested list). So for getting the flat output, we need to apply a transformation which will flatten the output, The transformation “flatMap” will help here:\n",
    "\n",
    "The “flatMap” transformation will return a new RDD by first applying a function to all elements of this RDD, and then flattening the results. This is the main difference between the “flatMap” and map transformations. Let’s apply a “flatMap” transformation on “rdd” , then take the result of this transformation in “rdd2” and print the result after applying this transformation."
   ]
  },
  {
   "cell_type": "code",
   "execution_count": 25,
   "metadata": {},
   "outputs": [
    {
     "data": {
      "text/plain": [
       "['Think of it for a moment – 1 Qunitillion = 1 Million Billion! Can you imagine how many drives / CDs / Blue-ray DVDs would be required to store them? It is difficult to imagine this scale of data generation even as a data science professional. While this pace of data generation is very exciting,  it has created entirely new set of challenges and has forced us to find new ways to handle Big Huge data effectively.',\n",
       " '',\n",
       " 'Big Data is not a new phenomena. It has been around for a while now. However, it has become really important with this pace of data generation. In past, several systems were developed for processing big data. Most of them were based on MapReduce framework. These frameworks typically rely on use of hard disk for saving and retrieving the results. However, this turns out to be very costly in terms of time and speed.',\n",
       " '',\n",
       " 'On the other hand, Organizations have never been more hungrier to add a competitive differentiation through understanding this data and offering its customer a much better experience. Imagine how valuable would be Facebook, if it did not understand your interests well? The traditional hard disk based MapReduce kind of frameworks do not help much to address this challenge.',\n",
       " '',\n",
       " 'In this article, I will introduce you to one such framework, which has made querying and analysing data at a large scale much more efficient than previous systems / frameworks – Read on!',\n",
       " '',\n",
       " 'P.S. This article is meant for complete beginners on the topic and presumes minimal prior knowledge in Big Data',\n",
       " '']"
      ]
     },
     "execution_count": 25,
     "metadata": {},
     "output_type": "execute_result"
    }
   ],
   "source": [
    "stopwords = ['is','am','are','the','for','a']\n",
    "rdd5 = rdd_blog.filter(lambda x: x not in stopwords)\n",
    "rdd5.take(10)"
   ]
  },
  {
   "cell_type": "code",
   "execution_count": 27,
   "metadata": {},
   "outputs": [
    {
     "data": {
      "text/plain": [
       "['think', 'of', 'it', 'moment', '–', '1', 'qunitillion', '=', '1', 'million']"
      ]
     },
     "execution_count": 27,
     "metadata": {},
     "output_type": "execute_result"
    }
   ],
   "source": [
    "stopwords = ['is','am','are','the','for','a']\n",
    "rdd6 = rdd3.filter(lambda x: x not in stopwords)\n",
    "rdd6.take(10)"
   ]
  },
  {
   "cell_type": "markdown",
   "metadata": {},
   "source": [
    "Transformation: groupBy\n",
    "\n",
    "(Q): After getting the results into rdd6, we want to group the words in rdd6 based on which letters they start with. For example, suppose I want to group each word of rdd6 based on first 3 characters.\n",
    "\n",
    "Solution: The “groupBy”  transformation will group the data in the original RDD. It creates a set of key value pairs, where the key is output of a user function, and the value is all items for which the function yields this key.\n",
    "\n",
    "    We have to pass a function (in this case, I am using a lambda function) inside the “groupBy” which will take the first 3 characters of each word in “rdd6”.\n",
    "    The key is the first 3 characters and value is all the words which start with these 3 characters.\n",
    "\n",
    "After applying “groupBy” function, we store the transformed result in “rdd7” (RDDs are immutable – remember!). To view “rdd7”, we can print first (key, value) elements in “rdd7”."
   ]
  },
  {
   "cell_type": "code",
   "execution_count": 29,
   "metadata": {},
   "outputs": [],
   "source": [
    "rdd7 = rdd6.groupBy(lambda w: w[0:3])\n"
   ]
  },
  {
   "cell_type": "code",
   "execution_count": 30,
   "metadata": {},
   "outputs": [
    {
     "name": "stdout",
     "output_type": "stream",
     "text": [
      "[('thi', ['think', 'this', 'this', 'this', 'this', 'this', 'this', 'this', 'this', 'this', 'this', 'this', 'this', 'this', 'this', 'this', 'this', 'this', 'this', 'this', 'this', 'this', 'this', 'this', 'this', 'this', 'this', 'think', 'this', 'this', 'this', 'this', 'this', 'this', 'this', 'this', 'this', 'this', 'this', 'this', 'this', 'this', 'this', 'things', 'this', 'this', 'this', 'this', 'this', 'this', 'this', 'this', 'this', 'this', 'this', 'this', 'this', 'this', 'this', 'this', 'this', 'this', 'this.', 'this', 'this', 'things', 'this', 'this', 'this'])]\n"
     ]
    }
   ],
   "source": [
    "print([(k, list(v)) for (k, v) in rdd7.take(1)])"
   ]
  },
  {
   "cell_type": "code",
   "execution_count": null,
   "metadata": {},
   "outputs": [],
   "source": []
  }
 ],
 "metadata": {
  "kernelspec": {
   "display_name": "Python 3",
   "language": "python",
   "name": "python3"
  },
  "language_info": {
   "codemirror_mode": {
    "name": "ipython",
    "version": 3
   },
   "file_extension": ".py",
   "mimetype": "text/x-python",
   "name": "python",
   "nbconvert_exporter": "python",
   "pygments_lexer": "ipython3",
   "version": "3.7.6"
  }
 },
 "nbformat": 4,
 "nbformat_minor": 4
}
